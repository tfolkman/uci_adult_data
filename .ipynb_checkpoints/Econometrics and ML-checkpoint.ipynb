{
 "cells": [
  {
   "cell_type": "code",
   "execution_count": 1,
   "metadata": {},
   "outputs": [
    {
     "name": "stderr",
     "output_type": "stream",
     "text": [
      "Using TensorFlow backend.\n"
     ]
    }
   ],
   "source": [
    "import pandas as pd\n",
    "from sklearn import preprocessing\n",
    "from sklearn.model_selection import train_test_split\n",
    "from sklearn.pipeline import Pipeline\n",
    "from sklearn.linear_model import LogisticRegression\n",
    "from sklearn.ensemble import GradientBoostingClassifier\n",
    "from sklearn.model_selection import GridSearchCV\n",
    "from sklearn import metrics\n",
    "from keras.models import Sequential\n",
    "from keras.layers import Dense, Dropout, BatchNormalization, MaxPool1D, Flatten, Conv1D\n",
    "from keras.utils import to_categorical\n",
    "import numpy as np"
   ]
  },
  {
   "cell_type": "code",
   "execution_count": 2,
   "metadata": {},
   "outputs": [
    {
     "data": {
      "text/html": [
       "<style>.container { width:100% !important; }</style>"
      ],
      "text/plain": [
       "<IPython.core.display.HTML object>"
      ]
     },
     "metadata": {},
     "output_type": "display_data"
    }
   ],
   "source": [
    "from IPython.core.display import display, HTML\n",
    "display(HTML(\"<style>.container { width:100% !important; }</style>\"))"
   ]
  },
  {
   "cell_type": "code",
   "execution_count": 3,
   "metadata": {
    "collapsed": true
   },
   "outputs": [],
   "source": [
    "names = ['age', 'workclass', 'fnlwgt', 'education', 'educationnum', 'maritalstatus', 'occupation', 'relationship', 'race',\n",
    "        'sex', 'capitalgain', 'capitalloss', 'hoursperweek', 'nativecountry', 'label']\n",
    "train_df = pd.read_csv(\"https://archive.ics.uci.edu/ml/machine-learning-databases/adult/adult.data\",\n",
    "                      header=None, names=names)\n",
    "test_df = pd.read_csv(\"https://archive.ics.uci.edu/ml/machine-learning-databases/adult/adult.test\",\n",
    "                      header=None, names=names, skiprows=[0])\n",
    "all_df = pd.concat([train_df, test_df])"
   ]
  },
  {
   "cell_type": "code",
   "execution_count": 4,
   "metadata": {},
   "outputs": [
    {
     "data": {
      "text/html": [
       "<div>\n",
       "<style>\n",
       "    .dataframe thead tr:only-child th {\n",
       "        text-align: right;\n",
       "    }\n",
       "\n",
       "    .dataframe thead th {\n",
       "        text-align: left;\n",
       "    }\n",
       "\n",
       "    .dataframe tbody tr th {\n",
       "        vertical-align: top;\n",
       "    }\n",
       "</style>\n",
       "<table border=\"1\" class=\"dataframe\">\n",
       "  <thead>\n",
       "    <tr style=\"text-align: right;\">\n",
       "      <th></th>\n",
       "      <th>age</th>\n",
       "      <th>workclass</th>\n",
       "      <th>fnlwgt</th>\n",
       "      <th>education</th>\n",
       "      <th>educationnum</th>\n",
       "      <th>maritalstatus</th>\n",
       "      <th>occupation</th>\n",
       "      <th>relationship</th>\n",
       "      <th>race</th>\n",
       "      <th>sex</th>\n",
       "      <th>capitalgain</th>\n",
       "      <th>capitalloss</th>\n",
       "      <th>hoursperweek</th>\n",
       "      <th>nativecountry</th>\n",
       "      <th>label</th>\n",
       "    </tr>\n",
       "  </thead>\n",
       "  <tbody>\n",
       "    <tr>\n",
       "      <th>0</th>\n",
       "      <td>39</td>\n",
       "      <td>State-gov</td>\n",
       "      <td>77516</td>\n",
       "      <td>Bachelors</td>\n",
       "      <td>13</td>\n",
       "      <td>Never-married</td>\n",
       "      <td>Adm-clerical</td>\n",
       "      <td>Not-in-family</td>\n",
       "      <td>White</td>\n",
       "      <td>Male</td>\n",
       "      <td>2174</td>\n",
       "      <td>0</td>\n",
       "      <td>40</td>\n",
       "      <td>United-States</td>\n",
       "      <td>&lt;=50K</td>\n",
       "    </tr>\n",
       "    <tr>\n",
       "      <th>1</th>\n",
       "      <td>50</td>\n",
       "      <td>Self-emp-not-inc</td>\n",
       "      <td>83311</td>\n",
       "      <td>Bachelors</td>\n",
       "      <td>13</td>\n",
       "      <td>Married-civ-spouse</td>\n",
       "      <td>Exec-managerial</td>\n",
       "      <td>Husband</td>\n",
       "      <td>White</td>\n",
       "      <td>Male</td>\n",
       "      <td>0</td>\n",
       "      <td>0</td>\n",
       "      <td>13</td>\n",
       "      <td>United-States</td>\n",
       "      <td>&lt;=50K</td>\n",
       "    </tr>\n",
       "    <tr>\n",
       "      <th>2</th>\n",
       "      <td>38</td>\n",
       "      <td>Private</td>\n",
       "      <td>215646</td>\n",
       "      <td>HS-grad</td>\n",
       "      <td>9</td>\n",
       "      <td>Divorced</td>\n",
       "      <td>Handlers-cleaners</td>\n",
       "      <td>Not-in-family</td>\n",
       "      <td>White</td>\n",
       "      <td>Male</td>\n",
       "      <td>0</td>\n",
       "      <td>0</td>\n",
       "      <td>40</td>\n",
       "      <td>United-States</td>\n",
       "      <td>&lt;=50K</td>\n",
       "    </tr>\n",
       "    <tr>\n",
       "      <th>3</th>\n",
       "      <td>53</td>\n",
       "      <td>Private</td>\n",
       "      <td>234721</td>\n",
       "      <td>11th</td>\n",
       "      <td>7</td>\n",
       "      <td>Married-civ-spouse</td>\n",
       "      <td>Handlers-cleaners</td>\n",
       "      <td>Husband</td>\n",
       "      <td>Black</td>\n",
       "      <td>Male</td>\n",
       "      <td>0</td>\n",
       "      <td>0</td>\n",
       "      <td>40</td>\n",
       "      <td>United-States</td>\n",
       "      <td>&lt;=50K</td>\n",
       "    </tr>\n",
       "    <tr>\n",
       "      <th>4</th>\n",
       "      <td>28</td>\n",
       "      <td>Private</td>\n",
       "      <td>338409</td>\n",
       "      <td>Bachelors</td>\n",
       "      <td>13</td>\n",
       "      <td>Married-civ-spouse</td>\n",
       "      <td>Prof-specialty</td>\n",
       "      <td>Wife</td>\n",
       "      <td>Black</td>\n",
       "      <td>Female</td>\n",
       "      <td>0</td>\n",
       "      <td>0</td>\n",
       "      <td>40</td>\n",
       "      <td>Cuba</td>\n",
       "      <td>&lt;=50K</td>\n",
       "    </tr>\n",
       "  </tbody>\n",
       "</table>\n",
       "</div>"
      ],
      "text/plain": [
       "   age          workclass  fnlwgt   education  educationnum  \\\n",
       "0   39          State-gov   77516   Bachelors            13   \n",
       "1   50   Self-emp-not-inc   83311   Bachelors            13   \n",
       "2   38            Private  215646     HS-grad             9   \n",
       "3   53            Private  234721        11th             7   \n",
       "4   28            Private  338409   Bachelors            13   \n",
       "\n",
       "         maritalstatus          occupation    relationship    race      sex  \\\n",
       "0        Never-married        Adm-clerical   Not-in-family   White     Male   \n",
       "1   Married-civ-spouse     Exec-managerial         Husband   White     Male   \n",
       "2             Divorced   Handlers-cleaners   Not-in-family   White     Male   \n",
       "3   Married-civ-spouse   Handlers-cleaners         Husband   Black     Male   \n",
       "4   Married-civ-spouse      Prof-specialty            Wife   Black   Female   \n",
       "\n",
       "   capitalgain  capitalloss  hoursperweek   nativecountry   label  \n",
       "0         2174            0            40   United-States   <=50K  \n",
       "1            0            0            13   United-States   <=50K  \n",
       "2            0            0            40   United-States   <=50K  \n",
       "3            0            0            40   United-States   <=50K  \n",
       "4            0            0            40            Cuba   <=50K  "
      ]
     },
     "execution_count": 4,
     "metadata": {},
     "output_type": "execute_result"
    }
   ],
   "source": [
    "all_df.head()"
   ]
  },
  {
   "cell_type": "code",
   "execution_count": 5,
   "metadata": {},
   "outputs": [
    {
     "data": {
      "text/plain": [
       "(48842, 15)"
      ]
     },
     "execution_count": 5,
     "metadata": {},
     "output_type": "execute_result"
    }
   ],
   "source": [
    "all_df.shape"
   ]
  },
  {
   "cell_type": "code",
   "execution_count": 6,
   "metadata": {
    "collapsed": true
   },
   "outputs": [],
   "source": [
    "drop_columns = ['fnlwgt', 'education']\n",
    "continuous_features = ['age', 'capitalgain', 'capitalloss', 'hoursperweek']\n",
    "cat_features =['educationnum', 'workclass', 'maritalstatus', 'occupation', 'relationship', 'race', 'sex', 'nativecountry']"
   ]
  },
  {
   "cell_type": "code",
   "execution_count": 7,
   "metadata": {
    "collapsed": true
   },
   "outputs": [],
   "source": [
    "all_df_dummies = pd.get_dummies(all_df, columns=cat_features)"
   ]
  },
  {
   "cell_type": "code",
   "execution_count": 8,
   "metadata": {
    "collapsed": true
   },
   "outputs": [],
   "source": [
    "all_df_dummies.drop(drop_columns, 1, inplace=True)"
   ]
  },
  {
   "cell_type": "code",
   "execution_count": 9,
   "metadata": {
    "collapsed": true
   },
   "outputs": [],
   "source": [
    "y = all_df_dummies['label'].apply(lambda x: 0 if '<' in x else 1)\n",
    "X = all_df_dummies.drop(['label'], 1)"
   ]
  },
  {
   "cell_type": "code",
   "execution_count": 10,
   "metadata": {},
   "outputs": [
    {
     "data": {
      "text/plain": [
       "0    0.760718\n",
       "1    0.239282\n",
       "Name: label, dtype: float64"
      ]
     },
     "execution_count": 10,
     "metadata": {},
     "output_type": "execute_result"
    }
   ],
   "source": [
    "y.value_counts(normalize=True)"
   ]
  },
  {
   "cell_type": "code",
   "execution_count": 11,
   "metadata": {
    "collapsed": true
   },
   "outputs": [],
   "source": [
    "X_train, X_test, y_train, y_test = train_test_split(X, y, test_size=0.33, random_state=42)"
   ]
  },
  {
   "cell_type": "code",
   "execution_count": 12,
   "metadata": {},
   "outputs": [
    {
     "data": {
      "text/plain": [
       "(32724, 106)"
      ]
     },
     "execution_count": 12,
     "metadata": {},
     "output_type": "execute_result"
    }
   ],
   "source": [
    "X_train.shape"
   ]
  },
  {
   "cell_type": "markdown",
   "metadata": {},
   "source": [
    "## Cleaning Pipeline"
   ]
  },
  {
   "cell_type": "code",
   "execution_count": 13,
   "metadata": {
    "collapsed": true
   },
   "outputs": [],
   "source": [
    "clean_pipeline = Pipeline([('imputer', preprocessing.Imputer(strategy=\"median\")),\n",
    "                           ('std_scaler', preprocessing.StandardScaler()),])"
   ]
  },
  {
   "cell_type": "code",
   "execution_count": 14,
   "metadata": {
    "collapsed": true
   },
   "outputs": [],
   "source": [
    "X_train_clean = clean_pipeline.fit_transform(X_train)"
   ]
  },
  {
   "cell_type": "code",
   "execution_count": 15,
   "metadata": {
    "collapsed": true
   },
   "outputs": [],
   "source": [
    "X_test_clean = clean_pipeline.transform(X_test)"
   ]
  },
  {
   "cell_type": "markdown",
   "metadata": {},
   "source": [
    "## Metrics"
   ]
  },
  {
   "cell_type": "code",
   "execution_count": 16,
   "metadata": {
    "collapsed": true
   },
   "outputs": [],
   "source": [
    "def evaluate(true, pred):\n",
    "    f1 = metrics.f1_score(true, pred)\n",
    "    roc_auc = metrics.roc_auc_score(true, pred)\n",
    "    accuracy = metrics.accuracy_score(true, pred)\n",
    "    print(\"F1: {0}\\nROC_AUC: {1}\\nACCURACY: {2}\".format(f1, roc_auc, accuracy))\n",
    "    return f1, roc_auc, accuracy"
   ]
  },
  {
   "cell_type": "markdown",
   "metadata": {},
   "source": [
    "## Logistic Regression"
   ]
  },
  {
   "cell_type": "code",
   "execution_count": 17,
   "metadata": {},
   "outputs": [
    {
     "data": {
      "text/plain": [
       "LogisticRegression(C=1.0, class_weight=None, dual=False, fit_intercept=True,\n",
       "          intercept_scaling=1, max_iter=100, multi_class='ovr', n_jobs=1,\n",
       "          penalty='l2', random_state=None, solver='liblinear', tol=0.0001,\n",
       "          verbose=0, warm_start=False)"
      ]
     },
     "execution_count": 17,
     "metadata": {},
     "output_type": "execute_result"
    }
   ],
   "source": [
    "clf = LogisticRegression()\n",
    "clf.fit(X_train, y_train)"
   ]
  },
  {
   "cell_type": "code",
   "execution_count": 18,
   "metadata": {
    "collapsed": true
   },
   "outputs": [],
   "source": [
    "lr_predictions = clf.predict(X_test)"
   ]
  },
  {
   "cell_type": "code",
   "execution_count": 19,
   "metadata": {},
   "outputs": [
    {
     "name": "stdout",
     "output_type": "stream",
     "text": [
      "F1: 0.6507094739859539\n",
      "ROC_AUC: 0.7574953226590644\n",
      "ACCURACY: 0.8488025809653803\n"
     ]
    }
   ],
   "source": [
    "lr_f1, lr_roc_auc, lr_acc = evaluate(y_test, lr_predictions)"
   ]
  },
  {
   "cell_type": "markdown",
   "metadata": {},
   "source": [
    "## Tuned Logistic Regression"
   ]
  },
  {
   "cell_type": "code",
   "execution_count": 20,
   "metadata": {},
   "outputs": [
    {
     "data": {
      "text/plain": [
       "GridSearchCV(cv=None, error_score='raise',\n",
       "       estimator=LogisticRegression(C=1.0, class_weight=None, dual=False, fit_intercept=True,\n",
       "          intercept_scaling=1, max_iter=100, multi_class='ovr', n_jobs=1,\n",
       "          penalty='l2', random_state=None, solver='liblinear', tol=0.0001,\n",
       "          verbose=0, warm_start=False),\n",
       "       fit_params={}, iid=True, n_jobs=10,\n",
       "       param_grid={'penalty': ['l1', 'l2'], 'C': [0.001, 0.01, 0.1, 1, 10, 100, 1000]},\n",
       "       pre_dispatch='2*n_jobs', refit=True, return_train_score=True,\n",
       "       scoring='f1', verbose=0)"
      ]
     },
     "execution_count": 20,
     "metadata": {},
     "output_type": "execute_result"
    }
   ],
   "source": [
    "lr_grid = {'penalty': ['l1', 'l2'], 'C': [0.001, 0.01, 0.1, 1, 10, 100, 1000] }\n",
    "tuned_lr = GridSearchCV(LogisticRegression(), lr_grid, scoring='f1', n_jobs=10)\n",
    "tuned_lr.fit(X_train, y_train)"
   ]
  },
  {
   "cell_type": "code",
   "execution_count": 21,
   "metadata": {},
   "outputs": [
    {
     "name": "stdout",
     "output_type": "stream",
     "text": [
      "Best F1 Validation Score: 0.6595912825591275\n"
     ]
    }
   ],
   "source": [
    "print(\"Best F1 Validation Score: {}\".format(tuned_lr.best_score_))"
   ]
  },
  {
   "cell_type": "code",
   "execution_count": 22,
   "metadata": {},
   "outputs": [
    {
     "data": {
      "text/plain": [
       "{'C': 1, 'penalty': 'l1'}"
      ]
     },
     "execution_count": 22,
     "metadata": {},
     "output_type": "execute_result"
    }
   ],
   "source": [
    "tuned_lr.best_params_"
   ]
  },
  {
   "cell_type": "code",
   "execution_count": 23,
   "metadata": {},
   "outputs": [
    {
     "name": "stdout",
     "output_type": "stream",
     "text": [
      "F1: 0.6509028374892518\n",
      "ROC_AUC: 0.7576230692099075\n",
      "ACCURACY: 0.8488646234024072\n"
     ]
    }
   ],
   "source": [
    "tuned_lr_predictions = tuned_lr.predict(X_test)\n",
    "tuned_lr_f1, tuned_lr_roc_auc, tuned_lr_acc = evaluate(y_test, tuned_lr_predictions)"
   ]
  },
  {
   "cell_type": "markdown",
   "metadata": {},
   "source": [
    "## Gradient Boosted Trees"
   ]
  },
  {
   "cell_type": "code",
   "execution_count": 24,
   "metadata": {},
   "outputs": [
    {
     "name": "stdout",
     "output_type": "stream",
     "text": [
      "F1: 0.6507094739859539\n",
      "ROC_AUC: 0.7574953226590644\n",
      "ACCURACY: 0.8488025809653803\n"
     ]
    }
   ],
   "source": [
    "gbt = GradientBoostingClassifier()\n",
    "gbt.fit(X_train, y_train)\n",
    "gbt_predictions = clf.predict(X_test)\n",
    "gbt_f1, gbt_roc_auc, gbt_acc = evaluate(y_test, gbt_predictions)"
   ]
  },
  {
   "cell_type": "markdown",
   "metadata": {},
   "source": [
    "## GBT Tuned"
   ]
  },
  {
   "cell_type": "code",
   "execution_count": 25,
   "metadata": {},
   "outputs": [
    {
     "data": {
      "text/plain": [
       "GradientBoostingClassifier(criterion='friedman_mse', init=None,\n",
       "              learning_rate=0.01, loss='deviance', max_depth=5,\n",
       "              max_features=None, max_leaf_nodes=None,\n",
       "              min_impurity_split=1e-07, min_samples_leaf=1,\n",
       "              min_samples_split=2, min_weight_fraction_leaf=0.0,\n",
       "              n_estimators=1000, presort='auto', random_state=None,\n",
       "              subsample=1.0, verbose=0, warm_start=False)"
      ]
     },
     "execution_count": 25,
     "metadata": {},
     "output_type": "execute_result"
    }
   ],
   "source": [
    "#gbt_grid = {'learning_rate': [.01], 'n_estimators': [250, 500, 1000], 'max_depth': [3, 4, 5]}\n",
    "gbt_tuned = GradientBoostingClassifier(learning_rate=.01, n_estimators=1000, max_depth=5)\n",
    "gbt_tuned.fit(X_train, y_train)"
   ]
  },
  {
   "cell_type": "code",
   "execution_count": 26,
   "metadata": {},
   "outputs": [
    {
     "name": "stdout",
     "output_type": "stream",
     "text": [
      "F1: 0.7042577675489067\n",
      "ROC_AUC: 0.7885511539729889\n",
      "ACCURACY: 0.8724407494726393\n"
     ]
    }
   ],
   "source": [
    "gbt_tuned_predictions = gbt_tuned.predict(X_test)\n",
    "gbt_tuned_f1, gbt_tunded_roc_auc, gbt_tuned_acc = evaluate(y_test, gbt_tuned_predictions)"
   ]
  },
  {
   "cell_type": "markdown",
   "metadata": {},
   "source": [
    "## Deep Learning Simple"
   ]
  },
  {
   "cell_type": "code",
   "execution_count": 27,
   "metadata": {
    "collapsed": true
   },
   "outputs": [],
   "source": [
    "model_simple = Sequential()\n",
    "model_simple.add(Dense(1024, activation='relu' , input_dim = X_train.shape[1]))\n",
    "model_simple.add(Dropout(0.5))\n",
    "model_simple.add(Dense(2, activation='softmax', name='softmax'))"
   ]
  },
  {
   "cell_type": "code",
   "execution_count": 28,
   "metadata": {
    "collapsed": true
   },
   "outputs": [],
   "source": [
    "y_train_cat = to_categorical(y_train.values, 2)"
   ]
  },
  {
   "cell_type": "code",
   "execution_count": 29,
   "metadata": {
    "collapsed": true
   },
   "outputs": [],
   "source": [
    "model_simple.compile(loss='categorical_crossentropy',\n",
    "              optimizer='adam',\n",
    "              metrics=['accuracy'])"
   ]
  },
  {
   "cell_type": "code",
   "execution_count": 30,
   "metadata": {},
   "outputs": [
    {
     "name": "stdout",
     "output_type": "stream",
     "text": [
      "Epoch 1/25\n",
      "32724/32724 [==============================] - 2s - loss: 1.5870 - acc: 0.7670     \n",
      "Epoch 2/25\n",
      "32724/32724 [==============================] - 1s - loss: 1.4849 - acc: 0.7915     \n",
      "Epoch 3/25\n",
      "32724/32724 [==============================] - 1s - loss: 1.4784 - acc: 0.7935     \n",
      "Epoch 4/25\n",
      "32724/32724 [==============================] - 2s - loss: 1.4772 - acc: 0.7946     \n",
      "Epoch 5/25\n",
      "32724/32724 [==============================] - 1s - loss: 1.4738 - acc: 0.7947     \n",
      "Epoch 6/25\n",
      "32724/32724 [==============================] - 1s - loss: 1.4701 - acc: 0.7957     \n",
      "Epoch 7/25\n",
      "32724/32724 [==============================] - 1s - loss: 1.4686 - acc: 0.7982     \n",
      "Epoch 8/25\n",
      "32724/32724 [==============================] - 1s - loss: 1.4678 - acc: 0.7972     \n",
      "Epoch 9/25\n",
      "32724/32724 [==============================] - 1s - loss: 1.4669 - acc: 0.7978     \n",
      "Epoch 10/25\n",
      "32724/32724 [==============================] - 1s - loss: 1.4664 - acc: 0.7980     \n",
      "Epoch 11/25\n",
      "32724/32724 [==============================] - 1s - loss: 1.4650 - acc: 0.7987     \n",
      "Epoch 12/25\n",
      "32724/32724 [==============================] - 1s - loss: 1.4648 - acc: 0.8007     \n",
      "Epoch 13/25\n",
      "32724/32724 [==============================] - 1s - loss: 1.4659 - acc: 0.7986     \n",
      "Epoch 14/25\n",
      "32724/32724 [==============================] - 1s - loss: 1.4642 - acc: 0.7993     \n",
      "Epoch 15/25\n",
      "32724/32724 [==============================] - 1s - loss: 1.4644 - acc: 0.8008     \n",
      "Epoch 16/25\n",
      "32724/32724 [==============================] - 1s - loss: 1.4641 - acc: 0.8007     \n",
      "Epoch 17/25\n",
      "32724/32724 [==============================] - 1s - loss: 1.4644 - acc: 0.8013     \n",
      "Epoch 18/25\n",
      "32724/32724 [==============================] - 1s - loss: 1.4644 - acc: 0.7997     \n",
      "Epoch 19/25\n",
      "32724/32724 [==============================] - 1s - loss: 1.4639 - acc: 0.8005     \n",
      "Epoch 20/25\n",
      "32724/32724 [==============================] - 1s - loss: 1.4634 - acc: 0.8014     \n",
      "Epoch 21/25\n",
      "32724/32724 [==============================] - 1s - loss: 1.4623 - acc: 0.8019     \n",
      "Epoch 22/25\n",
      "32724/32724 [==============================] - 1s - loss: 1.4642 - acc: 0.8017     \n",
      "Epoch 23/25\n",
      "32724/32724 [==============================] - 1s - loss: 1.4640 - acc: 0.8005     \n",
      "Epoch 24/25\n",
      "32724/32724 [==============================] - 1s - loss: 1.4631 - acc: 0.7995     \n",
      "Epoch 25/25\n",
      "32724/32724 [==============================] - 1s - loss: 1.4629 - acc: 0.8005     \n"
     ]
    },
    {
     "data": {
      "text/plain": [
       "<keras.callbacks.History at 0x7f97bf3b0b70>"
      ]
     },
     "execution_count": 30,
     "metadata": {},
     "output_type": "execute_result"
    }
   ],
   "source": [
    "model_simple.fit(X_train.values, y_train_cat, batch_size=32, epochs=25)"
   ]
  },
  {
   "cell_type": "code",
   "execution_count": 31,
   "metadata": {},
   "outputs": [
    {
     "name": "stdout",
     "output_type": "stream",
     "text": [
      "F1: 0.4804451510333863\n",
      "ROC_AUC: 0.7305386923619349\n",
      "ACCURACY: 0.7972453157960044\n"
     ]
    }
   ],
   "source": [
    "deep_predictions_simple = model_simple.predict(X_test.values)\n",
    "deep_simple_f1, deep_simple_roc_auc, deep_simple_acc = evaluate(np.argmax(deep_predictions_simple, 1), y_test)"
   ]
  },
  {
   "cell_type": "markdown",
   "metadata": {},
   "source": [
    "## Deep Learning Tuned A Bit"
   ]
  },
  {
   "cell_type": "code",
   "execution_count": 33,
   "metadata": {},
   "outputs": [],
   "source": [
    "model = Sequential()\n",
    "model.add(Dense(1024, activation='elu', kernel_initializer='glorot_normal', input_dim = X_train.shape[1]))\n",
    "model.add(BatchNormalization())\n",
    "model.add(Dense(128, activation='elu', kernel_initializer='glorot_normal'))\n",
    "model.add(BatchNormalization())\n",
    "model.add(Dense(64, activation='elu', kernel_initializer='glorot_normal'))\n",
    "model.add(Dropout(0.2))\n",
    "model.add(Dense(2, activation='softmax', name='softmax'))"
   ]
  },
  {
   "cell_type": "code",
   "execution_count": 34,
   "metadata": {},
   "outputs": [],
   "source": [
    "model.compile(loss='categorical_crossentropy',\n",
    "              optimizer='adam',\n",
    "              metrics=['accuracy'])"
   ]
  },
  {
   "cell_type": "code",
   "execution_count": 35,
   "metadata": {},
   "outputs": [
    {
     "name": "stdout",
     "output_type": "stream",
     "text": [
      "Epoch 1/40\n",
      "32724/32724 [==============================] - 0s - loss: 0.3876 - acc: 0.8167     \n",
      "Epoch 2/40\n",
      "32724/32724 [==============================] - 0s - loss: 0.3472 - acc: 0.8368     \n",
      "Epoch 3/40\n",
      "32724/32724 [==============================] - 0s - loss: 0.3367 - acc: 0.8409     \n",
      "Epoch 4/40\n",
      "32724/32724 [==============================] - 0s - loss: 0.3313 - acc: 0.8424     \n",
      "Epoch 5/40\n",
      "32724/32724 [==============================] - 0s - loss: 0.3295 - acc: 0.8441     \n",
      "Epoch 6/40\n",
      "32724/32724 [==============================] - 0s - loss: 0.3265 - acc: 0.8462     \n",
      "Epoch 7/40\n",
      "32724/32724 [==============================] - 0s - loss: 0.3254 - acc: 0.8462     \n",
      "Epoch 8/40\n",
      "32724/32724 [==============================] - 0s - loss: 0.3203 - acc: 0.8489     \n",
      "Epoch 9/40\n",
      "32724/32724 [==============================] - 0s - loss: 0.3201 - acc: 0.8482     \n",
      "Epoch 10/40\n",
      "32724/32724 [==============================] - 0s - loss: 0.3150 - acc: 0.8548     \n",
      "Epoch 11/40\n",
      "32724/32724 [==============================] - 0s - loss: 0.3178 - acc: 0.8517     \n",
      "Epoch 12/40\n",
      "32724/32724 [==============================] - 0s - loss: 0.3136 - acc: 0.8541     \n",
      "Epoch 13/40\n",
      "32724/32724 [==============================] - 0s - loss: 0.3137 - acc: 0.8547     \n",
      "Epoch 14/40\n",
      "32724/32724 [==============================] - 0s - loss: 0.3158 - acc: 0.8508     \n",
      "Epoch 15/40\n",
      "32724/32724 [==============================] - 0s - loss: 0.3113 - acc: 0.8550     \n",
      "Epoch 16/40\n",
      "32724/32724 [==============================] - 0s - loss: 0.3111 - acc: 0.8539     \n",
      "Epoch 17/40\n",
      "32724/32724 [==============================] - 0s - loss: 0.3097 - acc: 0.8555     \n",
      "Epoch 18/40\n",
      "32724/32724 [==============================] - 0s - loss: 0.3088 - acc: 0.8567     \n",
      "Epoch 19/40\n",
      "32724/32724 [==============================] - 0s - loss: 0.3094 - acc: 0.8556     \n",
      "Epoch 20/40\n",
      "32724/32724 [==============================] - 0s - loss: 0.3103 - acc: 0.8559     \n",
      "Epoch 21/40\n",
      "32724/32724 [==============================] - 0s - loss: 0.3108 - acc: 0.8546     \n",
      "Epoch 22/40\n",
      "32724/32724 [==============================] - 0s - loss: 0.3070 - acc: 0.8563     \n",
      "Epoch 23/40\n",
      "32724/32724 [==============================] - 0s - loss: 0.3096 - acc: 0.8556     \n",
      "Epoch 24/40\n",
      "32724/32724 [==============================] - 0s - loss: 0.3082 - acc: 0.8563     \n",
      "Epoch 25/40\n",
      "32724/32724 [==============================] - 0s - loss: 0.3072 - acc: 0.8561     \n",
      "Epoch 26/40\n",
      "32724/32724 [==============================] - 0s - loss: 0.3061 - acc: 0.8576     \n",
      "Epoch 27/40\n",
      "32724/32724 [==============================] - 0s - loss: 0.3040 - acc: 0.8585     \n",
      "Epoch 28/40\n",
      "32724/32724 [==============================] - 0s - loss: 0.3035 - acc: 0.8584     \n",
      "Epoch 29/40\n",
      "32724/32724 [==============================] - 0s - loss: 0.3036 - acc: 0.8579     \n",
      "Epoch 30/40\n",
      "32724/32724 [==============================] - 0s - loss: 0.3033 - acc: 0.8589     \n",
      "Epoch 31/40\n",
      "32724/32724 [==============================] - 0s - loss: 0.3042 - acc: 0.8562     \n",
      "Epoch 32/40\n",
      "32724/32724 [==============================] - 0s - loss: 0.3057 - acc: 0.8562     \n",
      "Epoch 33/40\n",
      "32724/32724 [==============================] - 0s - loss: 0.3010 - acc: 0.8606     \n",
      "Epoch 34/40\n",
      "32724/32724 [==============================] - 0s - loss: 0.3019 - acc: 0.8589     \n",
      "Epoch 35/40\n",
      "32724/32724 [==============================] - 0s - loss: 0.3035 - acc: 0.8589     \n",
      "Epoch 36/40\n",
      "32724/32724 [==============================] - 0s - loss: 0.3020 - acc: 0.8581     \n",
      "Epoch 37/40\n",
      "32724/32724 [==============================] - 0s - loss: 0.2999 - acc: 0.8603     \n",
      "Epoch 38/40\n",
      "32724/32724 [==============================] - 0s - loss: 0.2999 - acc: 0.8600     \n",
      "Epoch 39/40\n",
      "32724/32724 [==============================] - 0s - loss: 0.3003 - acc: 0.8598     \n",
      "Epoch 40/40\n",
      "32724/32724 [==============================] - 0s - loss: 0.2985 - acc: 0.8615     \n"
     ]
    },
    {
     "data": {
      "text/plain": [
       "<keras.callbacks.History at 0x7f9748718a20>"
      ]
     },
     "execution_count": 35,
     "metadata": {},
     "output_type": "execute_result"
    }
   ],
   "source": [
    "model.fit(X_train.values, y_train_cat, batch_size=512, epochs=40)"
   ]
  },
  {
   "cell_type": "code",
   "execution_count": 36,
   "metadata": {},
   "outputs": [],
   "source": [
    "deep_predictions = model.predict(X_test.values)"
   ]
  },
  {
   "cell_type": "code",
   "execution_count": 37,
   "metadata": {},
   "outputs": [
    {
     "name": "stdout",
     "output_type": "stream",
     "text": [
      "F1: 0.5969761014469193\n",
      "ROC_AUC: 0.835520517540418\n",
      "ACCURACY: 0.8461967986102494\n"
     ]
    }
   ],
   "source": [
    "deep_f1, deep_roc_auc, deep_acc = evaluate(np.argmax(deep_predictions, 1), y_test)"
   ]
  },
  {
   "cell_type": "markdown",
   "metadata": {},
   "source": [
    "## Final Results"
   ]
  },
  {
   "cell_type": "code",
   "execution_count": 39,
   "metadata": {
    "collapsed": true
   },
   "outputs": [],
   "source": [
    "model_names = [\"LR\", \"Tuned LR\", \"GBT\", \"Tuned GBT\", \"Deep\", \"Deep Tuned\"]\n",
    "metrics_of_interest = [\"F1\", \"ROC_AUC\", \"ACCURACY\"]\n",
    "f1s = [lr_f1, tuned_lr_f1, gbt_f1, gbt_tuned_f1, deep_simple_f1, deep_f1]\n",
    "roc_aucs = [lr_roc_auc, tuned_lr_roc_auc, gbt_roc_auc, gbt_tunded_roc_auc, deep_simple_roc_auc, deep_roc_auc]\n",
    "accuracy = [lr_acc, tuned_lr_acc, gbt_acc, gbt_tuned_acc, deep_simple_acc, deep_acc]"
   ]
  },
  {
   "cell_type": "code",
   "execution_count": 40,
   "metadata": {},
   "outputs": [],
   "source": [
    "results_df = pd.DataFrame(columns=metrics_of_interest, index=model_names, data=np.array([f1s, roc_aucs, accuracy]).T)"
   ]
  },
  {
   "cell_type": "code",
   "execution_count": 41,
   "metadata": {},
   "outputs": [
    {
     "data": {
      "text/html": [
       "<div>\n",
       "<style>\n",
       "    .dataframe thead tr:only-child th {\n",
       "        text-align: right;\n",
       "    }\n",
       "\n",
       "    .dataframe thead th {\n",
       "        text-align: left;\n",
       "    }\n",
       "\n",
       "    .dataframe tbody tr th {\n",
       "        vertical-align: top;\n",
       "    }\n",
       "</style>\n",
       "<table border=\"1\" class=\"dataframe\">\n",
       "  <thead>\n",
       "    <tr style=\"text-align: right;\">\n",
       "      <th></th>\n",
       "      <th>F1</th>\n",
       "      <th>ROC_AUC</th>\n",
       "      <th>ACCURACY</th>\n",
       "    </tr>\n",
       "  </thead>\n",
       "  <tbody>\n",
       "    <tr>\n",
       "      <th>LR</th>\n",
       "      <td>0.650709</td>\n",
       "      <td>0.757495</td>\n",
       "      <td>0.848803</td>\n",
       "    </tr>\n",
       "    <tr>\n",
       "      <th>Tuned LR</th>\n",
       "      <td>0.650903</td>\n",
       "      <td>0.757623</td>\n",
       "      <td>0.848865</td>\n",
       "    </tr>\n",
       "    <tr>\n",
       "      <th>GBT</th>\n",
       "      <td>0.650709</td>\n",
       "      <td>0.757495</td>\n",
       "      <td>0.848803</td>\n",
       "    </tr>\n",
       "    <tr>\n",
       "      <th>Tuned GBT</th>\n",
       "      <td>0.704258</td>\n",
       "      <td>0.788551</td>\n",
       "      <td>0.872441</td>\n",
       "    </tr>\n",
       "    <tr>\n",
       "      <th>Deep</th>\n",
       "      <td>0.480445</td>\n",
       "      <td>0.730539</td>\n",
       "      <td>0.797245</td>\n",
       "    </tr>\n",
       "    <tr>\n",
       "      <th>Deep Tuned</th>\n",
       "      <td>0.596976</td>\n",
       "      <td>0.835521</td>\n",
       "      <td>0.846197</td>\n",
       "    </tr>\n",
       "  </tbody>\n",
       "</table>\n",
       "</div>"
      ],
      "text/plain": [
       "                  F1   ROC_AUC  ACCURACY\n",
       "LR          0.650709  0.757495  0.848803\n",
       "Tuned LR    0.650903  0.757623  0.848865\n",
       "GBT         0.650709  0.757495  0.848803\n",
       "Tuned GBT   0.704258  0.788551  0.872441\n",
       "Deep        0.480445  0.730539  0.797245\n",
       "Deep Tuned  0.596976  0.835521  0.846197"
      ]
     },
     "execution_count": 41,
     "metadata": {},
     "output_type": "execute_result"
    }
   ],
   "source": [
    "results_df"
   ]
  },
  {
   "cell_type": "code",
   "execution_count": null,
   "metadata": {
    "collapsed": true
   },
   "outputs": [],
   "source": []
  }
 ],
 "metadata": {
  "kernelspec": {
   "display_name": "Python 3",
   "language": "python",
   "name": "python3"
  },
  "language_info": {
   "codemirror_mode": {
    "name": "ipython",
    "version": 3
   },
   "file_extension": ".py",
   "mimetype": "text/x-python",
   "name": "python",
   "nbconvert_exporter": "python",
   "pygments_lexer": "ipython3",
   "version": "3.6.1"
  }
 },
 "nbformat": 4,
 "nbformat_minor": 2
}
